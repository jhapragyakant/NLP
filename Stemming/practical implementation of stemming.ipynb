{
 "cells": [
  {
   "cell_type": "code",
   "execution_count": 1,
   "id": "0cf5c509",
   "metadata": {},
   "outputs": [],
   "source": [
    "words = ['Connects','Connecting','Connections','Connected','Connection','Connectings','Connect']"
   ]
  },
  {
   "cell_type": "code",
   "execution_count": 2,
   "id": "bff4c22a",
   "metadata": {},
   "outputs": [],
   "source": [
    "from nltk.stem import PorterStemmer"
   ]
  },
  {
   "cell_type": "markdown",
   "id": "4b2fc7c7",
   "metadata": {},
   "source": [
    "### Porter Stemmer"
   ]
  },
  {
   "cell_type": "code",
   "execution_count": 3,
   "id": "6fce7daa",
   "metadata": {},
   "outputs": [
    {
     "name": "stdout",
     "output_type": "stream",
     "text": [
      "Connects-->connect\n",
      "Connecting-->connect\n",
      "Connections-->connect\n",
      "Connected-->connect\n",
      "Connection-->connect\n",
      "Connectings-->connect\n",
      "Connect-->connect\n"
     ]
    }
   ],
   "source": [
    "stemmer= PorterStemmer()\n",
    "for word in words:\n",
    "    print(word+'-->'+stemmer.stem(word))"
   ]
  },
  {
   "cell_type": "markdown",
   "id": "8020bfaa",
   "metadata": {},
   "source": [
    "### Snowball Stemmer"
   ]
  },
  {
   "cell_type": "code",
   "execution_count": 6,
   "id": "e152c631",
   "metadata": {},
   "outputs": [
    {
     "name": "stdout",
     "output_type": "stream",
     "text": [
      "generous-->generous\n",
      "generate-->generat\n",
      "generously-->generous\n",
      "generation-->generat\n"
     ]
    }
   ],
   "source": [
    "words = ['generous','generate','generously','generation']\n",
    "from nltk.stem import SnowballStemmer\n",
    "stemmer= SnowballStemmer(language='english')\n",
    "for word in words:\n",
    "    print(word+\"-->\"+ stemmer.stem(word))"
   ]
  },
  {
   "cell_type": "markdown",
   "id": "4d3d3828",
   "metadata": {},
   "source": [
    "### Lancaster Stemmer"
   ]
  },
  {
   "cell_type": "code",
   "execution_count": 7,
   "id": "47b2734b",
   "metadata": {},
   "outputs": [
    {
     "name": "stdout",
     "output_type": "stream",
     "text": [
      "eating-->eat\n",
      "eats-->eat\n",
      "eaten-->eat\n",
      "puts-->put\n",
      "putting-->put\n"
     ]
    }
   ],
   "source": [
    "words = ['eating','eats','eaten','puts','putting']\n",
    "from nltk.stem import LancasterStemmer\n",
    "stemmer= LancasterStemmer()\n",
    "for word in words:\n",
    "    print(word+\"-->\"+ stemmer.stem(word))"
   ]
  },
  {
   "cell_type": "markdown",
   "id": "02469081",
   "metadata": {},
   "source": [
    "### Regexp Stemmer"
   ]
  },
  {
   "cell_type": "code",
   "execution_count": 10,
   "id": "4b8da0c2",
   "metadata": {},
   "outputs": [
    {
     "name": "stdout",
     "output_type": "stream",
     "text": [
      "eating-->eat\n",
      "eats-->eat\n",
      "eaten-->eaten\n",
      "puts-->put\n",
      "putting-->putt\n"
     ]
    }
   ],
   "source": [
    "from nltk.stem import RegexpStemmer\n",
    "stemmer= RegexpStemmer(regexp='ing$|s$|e$|able$')\n",
    "for word in words:\n",
    "    print(word+\"-->\"+ stemmer.stem(word))"
   ]
  },
  {
   "cell_type": "code",
   "execution_count": null,
   "id": "f78238c9",
   "metadata": {},
   "outputs": [],
   "source": []
  }
 ],
 "metadata": {
  "kernelspec": {
   "display_name": "Python 3",
   "language": "python",
   "name": "python3"
  },
  "language_info": {
   "codemirror_mode": {
    "name": "ipython",
    "version": 3
   },
   "file_extension": ".py",
   "mimetype": "text/x-python",
   "name": "python",
   "nbconvert_exporter": "python",
   "pygments_lexer": "ipython3",
   "version": "3.10.0"
  }
 },
 "nbformat": 4,
 "nbformat_minor": 5
}
